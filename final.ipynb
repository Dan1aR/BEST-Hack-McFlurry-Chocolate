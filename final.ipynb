{
 "cells": [
  {
   "cell_type": "code",
   "execution_count": 33,
   "metadata": {},
   "outputs": [],
   "source": [
    "import numpy as np\n",
    "import pandas as pd\n",
    "from tensorflow import keras\n",
    "from tensorflow.keras.layers import Dense\n",
    "import cv2\n",
    "import matplotlib.pyplot as plt\n",
    "from sklearn.model_selection import train_test_split\n",
    "from catboost import CatBoostRegressor\n",
    "from sklearn.model_selection import GridSearchCV\n",
    "from sklearn.metrics import r2_score\n",
    "from xgboost import XGBRegressor"
   ]
  },
  {
   "cell_type": "code",
   "execution_count": 34,
   "metadata": {},
   "outputs": [],
   "source": [
    "data = pd.read_csv('aggr.csv')"
   ]
  },
  {
   "cell_type": "code",
   "execution_count": 35,
   "metadata": {},
   "outputs": [
    {
     "output_type": "execute_result",
     "data": {
      "text/plain": [
       "    Unnamed: 0                                       filename       mean  \\\n",
       "0            0  спокойное дыхание пульс 90-Обрезка 14.MOV.csv  66.686331   \n",
       "1            0  спокойное дыхание пульс 90-Обрезка 15.MOV.csv  66.686331   \n",
       "2            0  спокойное дыхание пульс 90-Обрезка 21.MOV.csv  66.686331   \n",
       "3            0  спокойное дыхание пульс 90-Обрезка 02.MOV.csv  85.626944   \n",
       "4            0  спокойное дыхание пульс 90-Обрезка 12.MOV.csv  66.686331   \n",
       "..         ...                                            ...        ...   \n",
       "69           0                пульс 116-90-Обрезка 04.MOV.csv  57.397457   \n",
       "70           0                пульс 116-90-Обрезка 13.MOV.csv  60.340288   \n",
       "71           0                пульс 116-90-Обрезка 14.MOV.csv  77.478463   \n",
       "72           0                пульс 116-90-Обрезка 18.MOV.csv  46.993063   \n",
       "73           0                пульс 116-90-Обрезка 02.MOV.csv  63.434000   \n",
       "\n",
       "          std          max     median  freq  \n",
       "0   11.800362  4447.066748  66.686331   0.0  \n",
       "1   11.800362  4447.066748  66.686331   0.0  \n",
       "2   11.800362  4447.066748  66.686331   0.0  \n",
       "3   13.632683  7331.973539  85.626944   0.0  \n",
       "4   11.800362  4447.066748  66.686331   0.0  \n",
       "..        ...          ...        ...   ...  \n",
       "69  10.821405  3294.468075  57.397457   0.0  \n",
       "70  11.138351  3640.950307  60.340288   0.0  \n",
       "71  12.867879  6002.912217  77.478463   0.0  \n",
       "72   9.641280  2208.347992  46.993063   0.0  \n",
       "73  11.464579  4023.872394  63.434000   0.0  \n",
       "\n",
       "[74 rows x 7 columns]"
      ],
      "text/html": "<div>\n<style scoped>\n    .dataframe tbody tr th:only-of-type {\n        vertical-align: middle;\n    }\n\n    .dataframe tbody tr th {\n        vertical-align: top;\n    }\n\n    .dataframe thead th {\n        text-align: right;\n    }\n</style>\n<table border=\"1\" class=\"dataframe\">\n  <thead>\n    <tr style=\"text-align: right;\">\n      <th></th>\n      <th>Unnamed: 0</th>\n      <th>filename</th>\n      <th>mean</th>\n      <th>std</th>\n      <th>max</th>\n      <th>median</th>\n      <th>freq</th>\n    </tr>\n  </thead>\n  <tbody>\n    <tr>\n      <th>0</th>\n      <td>0</td>\n      <td>спокойное дыхание пульс 90-Обрезка 14.MOV.csv</td>\n      <td>66.686331</td>\n      <td>11.800362</td>\n      <td>4447.066748</td>\n      <td>66.686331</td>\n      <td>0.0</td>\n    </tr>\n    <tr>\n      <th>1</th>\n      <td>0</td>\n      <td>спокойное дыхание пульс 90-Обрезка 15.MOV.csv</td>\n      <td>66.686331</td>\n      <td>11.800362</td>\n      <td>4447.066748</td>\n      <td>66.686331</td>\n      <td>0.0</td>\n    </tr>\n    <tr>\n      <th>2</th>\n      <td>0</td>\n      <td>спокойное дыхание пульс 90-Обрезка 21.MOV.csv</td>\n      <td>66.686331</td>\n      <td>11.800362</td>\n      <td>4447.066748</td>\n      <td>66.686331</td>\n      <td>0.0</td>\n    </tr>\n    <tr>\n      <th>3</th>\n      <td>0</td>\n      <td>спокойное дыхание пульс 90-Обрезка 02.MOV.csv</td>\n      <td>85.626944</td>\n      <td>13.632683</td>\n      <td>7331.973539</td>\n      <td>85.626944</td>\n      <td>0.0</td>\n    </tr>\n    <tr>\n      <th>4</th>\n      <td>0</td>\n      <td>спокойное дыхание пульс 90-Обрезка 12.MOV.csv</td>\n      <td>66.686331</td>\n      <td>11.800362</td>\n      <td>4447.066748</td>\n      <td>66.686331</td>\n      <td>0.0</td>\n    </tr>\n    <tr>\n      <th>...</th>\n      <td>...</td>\n      <td>...</td>\n      <td>...</td>\n      <td>...</td>\n      <td>...</td>\n      <td>...</td>\n      <td>...</td>\n    </tr>\n    <tr>\n      <th>69</th>\n      <td>0</td>\n      <td>пульс 116-90-Обрезка 04.MOV.csv</td>\n      <td>57.397457</td>\n      <td>10.821405</td>\n      <td>3294.468075</td>\n      <td>57.397457</td>\n      <td>0.0</td>\n    </tr>\n    <tr>\n      <th>70</th>\n      <td>0</td>\n      <td>пульс 116-90-Обрезка 13.MOV.csv</td>\n      <td>60.340288</td>\n      <td>11.138351</td>\n      <td>3640.950307</td>\n      <td>60.340288</td>\n      <td>0.0</td>\n    </tr>\n    <tr>\n      <th>71</th>\n      <td>0</td>\n      <td>пульс 116-90-Обрезка 14.MOV.csv</td>\n      <td>77.478463</td>\n      <td>12.867879</td>\n      <td>6002.912217</td>\n      <td>77.478463</td>\n      <td>0.0</td>\n    </tr>\n    <tr>\n      <th>72</th>\n      <td>0</td>\n      <td>пульс 116-90-Обрезка 18.MOV.csv</td>\n      <td>46.993063</td>\n      <td>9.641280</td>\n      <td>2208.347992</td>\n      <td>46.993063</td>\n      <td>0.0</td>\n    </tr>\n    <tr>\n      <th>73</th>\n      <td>0</td>\n      <td>пульс 116-90-Обрезка 02.MOV.csv</td>\n      <td>63.434000</td>\n      <td>11.464579</td>\n      <td>4023.872394</td>\n      <td>63.434000</td>\n      <td>0.0</td>\n    </tr>\n  </tbody>\n</table>\n<p>74 rows × 7 columns</p>\n</div>"
     },
     "metadata": {},
     "execution_count": 35
    }
   ],
   "source": [
    "data"
   ]
  },
  {
   "cell_type": "code",
   "execution_count": 36,
   "metadata": {},
   "outputs": [
    {
     "output_type": "stream",
     "name": "stdout",
     "text": [
      "спокойное дыхание пульс 90-Обрезка 14.MOV.csv\nспокойное дыхание пульс 90-Обрезка 15.MOV.csv\nспокойное дыхание пульс 90-Обрезка 21.MOV.csv\nспокойное дыхание пульс 90-Обрезка 02.MOV.csv\nспокойное дыхание пульс 90-Обрезка 12.MOV.csv\nспокойное дыхание пульс 90-Обрезка 03.MOV.csv\nспокойное дыхание пульс 90-Обрезка 17.MOV.csv\nспокойное дыхание пульс 90-Обрезка 22.MOV.csv\nспокойное дыхание пульс 90-Обрезка 09.MOV.csv\nспокойное дыхание пульс 90-Обрезка 20.MOV.csv\nспокойное дыхание пульс 90-Обрезка 18.MOV.csv\nспокойное дыхание пульс 90-Обрезка 11.MOV.csv\nспокойное дыхание пульс 90-Обрезка 04.MOV.csv\nспокойное дыхание пульс 90-Обрезка 05.MOV.csv\nспокойное дыхание пульс 90-Обрезка 06.MOV.csv\nспокойное дыхание пульс 90-Обрезка 19.MOV.csv\nспокойное дыхание пульс 90-Обрезка 07.MOV.csv\nспокойное дыхание пульс 90-Обрезка 13.MOV.csv\nспокойное дыхание пульс 90-Обрезка 16.MOV.csv\nпульс 160-150 4 шаблон-Обрезка 10.MOV.csv\nпульс 160-150 4 шаблон-Обрезка 02.MOV.csv\nпульс 160-150 4 шаблон-Обрезка 05.MOV.csv\nпульс 160-150 4 шаблон-Обрезка 16.MOV.csv\nпульс 160-150 4 шаблон-Обрезка 06.MOV.csv\nпульс 160-150 4 шаблон-Обрезка 13.MOV.csv\nпульс 160-150 4 шаблон-Обрезка 01.MOV.csv\nпульс 160-150 4 шаблон-Обрезка 09.MOV.csv\ndelts3.csv\nБутербор17-Набрезка 01.mov.csv\nБутербор17-Набрезка 04.mov.csv\nБутербор17-Набрезка 02.mov.csv\nБутербор17-Набрезка 03.mov.csv\nБутербор17-Набрезка 05.mov.csv\nпульс 90-80 видео по 2 шаблону-Обрезка 20.MOV.csv\nпульс 90-80 видео по 2 шаблону-Обрезка 05.MOV.csv\nпульс 90-80 видео по 2 шаблону-Обрезка 10.MOV.csv\nпульс 90-80 видео по 2 шаблону-Обрезка 06.MOV.csv\nпульс 90-80 видео по 2 шаблону-Обрезка 04.MOV.csv\nпульс 90-80 видео по 2 шаблону-Обрезка 01.MOV.csv\nпульс 90-80 видео по 2 шаблону-Обрезка 19.MOV.csv\nпульс 90-80 видео по 2 шаблону-Обрезка 14.MOV.csv\nпульс 90-80 видео по 2 шаблону-Обрезка 03.MOV.csv\nпульс 90-80 видео по 2 шаблону-Обрезка 12.MOV.csv\nпульс 90-80 видео по 2 шаблону-Обрезка 15.MOV.csv\nпульс 90-80 видео по 2 шаблону-Обрезка 11.MOV.csv\nпульс 90-80 видео по 2 шаблону-Обрезка 08.MOV.csv\nпульс 90-80 видео по 2 шаблону-Обрезка 02.MOV.csv\nпульс 90-80 видео по 2 шаблону-Обрезка 18.MOV.csv\nпульс 90-80 видео по 2 шаблону-Обрезка 07.MOV.csv\nпульс 90-80 видео по 2 шаблону-Обрезка 17.MOV.csv\nпульс 90-80 видео по 2 шаблону-Обрезка 16.MOV.csv\nпульс 90-80 видео по 2 шаблону-Обрезка 21.MOV.csv\nспокойное дыхание по 1 шаблону-Обрезка 03.MOV.csv\nспокойное дыхание по 1 шаблону-Обрезка 06.MOV.csv\nспокойное дыхание по 1 шаблону-Обрезка 05.MOV.csv\nспокойное дыхание по 1 шаблону-Обрезка 02.MOV.csv\nспокойное дыхание по 1 шаблону-Обрезка 04.MOV.csv\nпульс 116-90-Обрезка 01.MOV.csv\nпульс 116-90-Обрезка 06.MOV.csv\nпульс 116-90-Обрезка 05.MOV.csv\nпульс 116-90-Обрезка 20.MOV.csv\nпульс 116-90-Обрезка 10.MOV.csv\nпульс 116-90-Обрезка 15.MOV.csv\nпульс 116-90-Обрезка 09.MOV.csv\nпульс 116-90-Обрезка 19.MOV.csv\nпульс 116-90-Обрезка 07.MOV.csv\nпульс 116-90-Обрезка 17.MOV.csv\nпульс 116-90-Обрезка 11.MOV.csv\nпульс 116-90-Обрезка 12.MOV.csv\nпульс 116-90-Обрезка 04.MOV.csv\nпульс 116-90-Обрезка 13.MOV.csv\nпульс 116-90-Обрезка 14.MOV.csv\nпульс 116-90-Обрезка 18.MOV.csv\nпульс 116-90-Обрезка 02.MOV.csv\n"
     ]
    }
   ],
   "source": [
    "for i in data.filename:\n",
    "    print(i)"
   ]
  },
  {
   "cell_type": "code",
   "execution_count": 37,
   "metadata": {},
   "outputs": [],
   "source": [
    "a = []\n",
    "for i in data.filename:\n",
    "    if 'delts3' in i:\n",
    "        continue\n",
    "    if 'пульс 116-90' in i:\n",
    "        if int(i[-10]) * 10 + int(i[-9]) <= 9:\n",
    "            a.append(116)\n",
    "        elif (int(i[-10]) * 10 + int(i[-9]) > 9) and (int(i[-10]) * 10 + int(i[-9]) <= 11):\n",
    "            a.append(100)\n",
    "        elif (int(i[-10]) * 10 + int(i[-9]) >= 12) and (int(i[-10]) * 10 + int(i[-9]) <= 14):\n",
    "            a.append(93)   \n",
    "        else:\n",
    "            a.append(90)  \n",
    "    elif 'спокойное дыхание пульс 90' in i:\n",
    "        if int(i[-10]) * 10 + int(i[-9]) <= 5:\n",
    "            a.append(90)\n",
    "        elif (int(i[-10]) * 10 + int(i[-9]) == 6) :\n",
    "            a.append(87)\n",
    "        elif (int(i[-10]) * 10 + int(i[-9]) > 6) and (int(i[-10]) * 10 + int(i[-9]) <= 17):\n",
    "            a.append(95)   \n",
    "        else:\n",
    "            a.append(100)\n",
    "    elif 'пульс 160-150 4 шаблон' in i:\n",
    "        if int(i[-10]) * 10 + int(i[-9]) <= 16:\n",
    "            a.append(160)\n",
    "        else:\n",
    "            a.append(150)\n",
    "    elif 'Бутербор17' in i:\n",
    "        a.append(70)\n",
    "    elif 'пульс 90-80 видео по 2 шаблону' in i:\n",
    "        if int(i[-10]) * 10 + int(i[-9]) <= 12:\n",
    "            a.append(92)\n",
    "        elif (int(i[-10]) * 10 + int(i[-9]) > 12) and (int(i[-10]) * 10 + int(i[-9]) <= 16):\n",
    "            a.append(80) \n",
    "        else:\n",
    "            a.append(86)\n",
    "    else:\n",
    "        a.append(86)"
   ]
  },
  {
   "cell_type": "code",
   "execution_count": null,
   "metadata": {},
   "outputs": [],
   "source": []
  },
  {
   "cell_type": "code",
   "execution_count": 38,
   "metadata": {},
   "outputs": [
    {
     "output_type": "stream",
     "name": "stderr",
     "text": [
      "<ipython-input-38-d67f1591679f>:2: SettingWithCopyWarning: \nA value is trying to be set on a copy of a slice from a DataFrame.\nTry using .loc[row_indexer,col_indexer] = value instead\n\nSee the caveats in the documentation: https://pandas.pydata.org/pandas-docs/stable/user_guide/indexing.html#returning-a-view-versus-a-copy\n  data['y'] = a\n"
     ]
    }
   ],
   "source": [
    "data = data.loc[data.filename != 'delts3.csv']\n",
    "data['y'] = a"
   ]
  },
  {
   "cell_type": "code",
   "execution_count": 39,
   "metadata": {},
   "outputs": [],
   "source": [
    "data = data.drop(data.loc[:, data.columns.str.contains('^Unnamed')],axis = 1)\n",
    "data = data.drop(['filename'],axis = 1)"
   ]
  },
  {
   "cell_type": "markdown",
   "metadata": {},
   "source": []
  },
  {
   "cell_type": "code",
   "execution_count": null,
   "metadata": {},
   "outputs": [],
   "source": []
  },
  {
   "cell_type": "code",
   "execution_count": 40,
   "metadata": {},
   "outputs": [],
   "source": [
    "X = data.drop(['y'], axis = 1)\n",
    "y = data['y']"
   ]
  },
  {
   "cell_type": "code",
   "execution_count": 41,
   "metadata": {},
   "outputs": [
    {
     "output_type": "execute_result",
     "data": {
      "text/plain": [
       "         mean        std          max     median  freq\n",
       "0   66.686331  11.800362  4447.066748  66.686331   0.0\n",
       "1   66.686331  11.800362  4447.066748  66.686331   0.0\n",
       "2   66.686331  11.800362  4447.066748  66.686331   0.0\n",
       "3   85.626944  13.632683  7331.973539  85.626944   0.0\n",
       "4   66.686331  11.800362  4447.066748  66.686331   0.0\n",
       "..        ...        ...          ...        ...   ...\n",
       "69  57.397457  10.821405  3294.468075  57.397457   0.0\n",
       "70  60.340288  11.138351  3640.950307  60.340288   0.0\n",
       "71  77.478463  12.867879  6002.912217  77.478463   0.0\n",
       "72  46.993063   9.641280  2208.347992  46.993063   0.0\n",
       "73  63.434000  11.464579  4023.872394  63.434000   0.0\n",
       "\n",
       "[73 rows x 5 columns]"
      ],
      "text/html": "<div>\n<style scoped>\n    .dataframe tbody tr th:only-of-type {\n        vertical-align: middle;\n    }\n\n    .dataframe tbody tr th {\n        vertical-align: top;\n    }\n\n    .dataframe thead th {\n        text-align: right;\n    }\n</style>\n<table border=\"1\" class=\"dataframe\">\n  <thead>\n    <tr style=\"text-align: right;\">\n      <th></th>\n      <th>mean</th>\n      <th>std</th>\n      <th>max</th>\n      <th>median</th>\n      <th>freq</th>\n    </tr>\n  </thead>\n  <tbody>\n    <tr>\n      <th>0</th>\n      <td>66.686331</td>\n      <td>11.800362</td>\n      <td>4447.066748</td>\n      <td>66.686331</td>\n      <td>0.0</td>\n    </tr>\n    <tr>\n      <th>1</th>\n      <td>66.686331</td>\n      <td>11.800362</td>\n      <td>4447.066748</td>\n      <td>66.686331</td>\n      <td>0.0</td>\n    </tr>\n    <tr>\n      <th>2</th>\n      <td>66.686331</td>\n      <td>11.800362</td>\n      <td>4447.066748</td>\n      <td>66.686331</td>\n      <td>0.0</td>\n    </tr>\n    <tr>\n      <th>3</th>\n      <td>85.626944</td>\n      <td>13.632683</td>\n      <td>7331.973539</td>\n      <td>85.626944</td>\n      <td>0.0</td>\n    </tr>\n    <tr>\n      <th>4</th>\n      <td>66.686331</td>\n      <td>11.800362</td>\n      <td>4447.066748</td>\n      <td>66.686331</td>\n      <td>0.0</td>\n    </tr>\n    <tr>\n      <th>...</th>\n      <td>...</td>\n      <td>...</td>\n      <td>...</td>\n      <td>...</td>\n      <td>...</td>\n    </tr>\n    <tr>\n      <th>69</th>\n      <td>57.397457</td>\n      <td>10.821405</td>\n      <td>3294.468075</td>\n      <td>57.397457</td>\n      <td>0.0</td>\n    </tr>\n    <tr>\n      <th>70</th>\n      <td>60.340288</td>\n      <td>11.138351</td>\n      <td>3640.950307</td>\n      <td>60.340288</td>\n      <td>0.0</td>\n    </tr>\n    <tr>\n      <th>71</th>\n      <td>77.478463</td>\n      <td>12.867879</td>\n      <td>6002.912217</td>\n      <td>77.478463</td>\n      <td>0.0</td>\n    </tr>\n    <tr>\n      <th>72</th>\n      <td>46.993063</td>\n      <td>9.641280</td>\n      <td>2208.347992</td>\n      <td>46.993063</td>\n      <td>0.0</td>\n    </tr>\n    <tr>\n      <th>73</th>\n      <td>63.434000</td>\n      <td>11.464579</td>\n      <td>4023.872394</td>\n      <td>63.434000</td>\n      <td>0.0</td>\n    </tr>\n  </tbody>\n</table>\n<p>73 rows × 5 columns</p>\n</div>"
     },
     "metadata": {},
     "execution_count": 41
    }
   ],
   "source": [
    "X\n"
   ]
  },
  {
   "cell_type": "code",
   "execution_count": 42,
   "metadata": {},
   "outputs": [
    {
     "output_type": "execute_result",
     "data": {
      "text/plain": [
       "0      95\n",
       "1      95\n",
       "2     100\n",
       "3      90\n",
       "4      95\n",
       "     ... \n",
       "69    116\n",
       "70     93\n",
       "71     93\n",
       "72     90\n",
       "73    116\n",
       "Name: y, Length: 73, dtype: int64"
      ]
     },
     "metadata": {},
     "execution_count": 42
    }
   ],
   "source": [
    "y"
   ]
  },
  {
   "cell_type": "code",
   "execution_count": 43,
   "metadata": {},
   "outputs": [],
   "source": [
    "X_train, X_test, y_train, y_test = train_test_split(X, y, test_size = 0.3, random_state = 0)"
   ]
  },
  {
   "cell_type": "code",
   "execution_count": 44,
   "metadata": {},
   "outputs": [],
   "source": [
    "xgb = XGBRegressor(task_type = 'GPU', iterations = 500)"
   ]
  },
  {
   "cell_type": "code",
   "execution_count": 45,
   "metadata": {},
   "outputs": [
    {
     "output_type": "stream",
     "name": "stdout",
     "text": [
      "[08:27:24] WARNING: ../src/learner.cc:541: \nParameters: { iterations, task_type } might not be used.\n\n  This may not be accurate due to some parameters are only used in language bindings but\n  passed down to XGBoost core.  Or some parameters are not used but slip through this\n  verification. Please open an issue if you find above cases.\n\n\n"
     ]
    },
    {
     "output_type": "execute_result",
     "data": {
      "text/plain": [
       "XGBRegressor(base_score=0.5, booster='gbtree', colsample_bylevel=1,\n",
       "             colsample_bynode=1, colsample_bytree=1, gamma=0, gpu_id=-1,\n",
       "             importance_type='gain', interaction_constraints='', iterations=500,\n",
       "             learning_rate=0.300000012, max_delta_step=0, max_depth=6,\n",
       "             min_child_weight=1, missing=nan, monotone_constraints='()',\n",
       "             n_estimators=100, n_jobs=4, num_parallel_tree=1, random_state=0,\n",
       "             reg_alpha=0, reg_lambda=1, scale_pos_weight=1, subsample=1,\n",
       "             task_type='GPU', tree_method='exact', validate_parameters=1,\n",
       "             verbosity=None)"
      ]
     },
     "metadata": {},
     "execution_count": 45
    }
   ],
   "source": [
    "xgb.fit(X_train, y_train)"
   ]
  },
  {
   "cell_type": "code",
   "execution_count": 46,
   "metadata": {},
   "outputs": [],
   "source": [
    "y_pred = xgb.predict(X_test)"
   ]
  },
  {
   "cell_type": "markdown",
   "metadata": {},
   "source": []
  },
  {
   "cell_type": "code",
   "execution_count": 47,
   "metadata": {},
   "outputs": [
    {
     "output_type": "execute_result",
     "data": {
      "text/plain": [
       "50     80\n",
       "54     86\n",
       "22    160\n",
       "44     92\n",
       "29     70\n",
       "26    160\n",
       "71     93\n",
       "51     86\n",
       "35     92\n",
       "7     100\n",
       "43     80\n",
       "56     86\n",
       "41     92\n",
       "61    100\n",
       "34     92\n",
       "66     90\n",
       "28     70\n",
       "72     90\n",
       "57    116\n",
       "53     86\n",
       "6      95\n",
       "49     86\n",
       "Name: y, dtype: int64"
      ]
     },
     "metadata": {},
     "execution_count": 47
    }
   ],
   "source": [
    "y_test"
   ]
  },
  {
   "cell_type": "code",
   "execution_count": 48,
   "metadata": {},
   "outputs": [
    {
     "output_type": "execute_result",
     "data": {
      "text/plain": [
       "0      88.000763\n",
       "1      89.999771\n",
       "2     160.000168\n",
       "3      88.000763\n",
       "4     115.997650\n",
       "5     159.998062\n",
       "6      93.000938\n",
       "7      88.000763\n",
       "8      89.999771\n",
       "9      94.812607\n",
       "10    106.830544\n",
       "11     88.000763\n",
       "12     94.812607\n",
       "13     77.999443\n",
       "14     94.812607\n",
       "15    115.998184\n",
       "16     77.999443\n",
       "17    115.998184\n",
       "18     93.000938\n",
       "19     70.000244\n",
       "20     94.812607\n",
       "21     89.999771\n",
       "dtype: float32"
      ]
     },
     "metadata": {},
     "execution_count": 48
    }
   ],
   "source": [
    "pd.Series(y_pred)"
   ]
  },
  {
   "cell_type": "code",
   "execution_count": 49,
   "metadata": {},
   "outputs": [
    {
     "output_type": "execute_result",
     "data": {
      "text/plain": [
       "50     8.000763\n",
       "54     3.999771\n",
       "22     0.000168\n",
       "44     3.999237\n",
       "29    45.997650\n",
       "26     0.001938\n",
       "71     0.000938\n",
       "51     2.000763\n",
       "35     2.000229\n",
       "7      5.187393\n",
       "43    26.830544\n",
       "56     2.000763\n",
       "41     2.812607\n",
       "61    22.000557\n",
       "34     2.812607\n",
       "66    25.998184\n",
       "28     7.999443\n",
       "72    25.998184\n",
       "57    22.999062\n",
       "53    15.999756\n",
       "6      0.187393\n",
       "49     3.999771\n",
       "Name: y, dtype: float64"
      ]
     },
     "metadata": {},
     "execution_count": 49
    }
   ],
   "source": [
    "abs(y_pred - y_test)"
   ]
  },
  {
   "cell_type": "code",
   "execution_count": 50,
   "metadata": {},
   "outputs": [
    {
     "output_type": "execute_result",
     "data": {
      "text/plain": [
       "0.48096941725776354"
      ]
     },
     "metadata": {},
     "execution_count": 50
    }
   ],
   "source": [
    "r2_score(y_pred, y_test)"
   ]
  },
  {
   "cell_type": "code",
   "execution_count": null,
   "metadata": {},
   "outputs": [],
   "source": []
  },
  {
   "cell_type": "code",
   "execution_count": 51,
   "metadata": {},
   "outputs": [
    {
     "output_type": "execute_result",
     "data": {
      "text/plain": [
       "<pandas.io.formats.style.Styler at 0x7f0d577fee20>"
      ],
      "text/html": "<style  type=\"text/css\" >\n#T_1d81dd4a_8ebd_11eb_8b1c_93bf1031e270row0_col0,#T_1d81dd4a_8ebd_11eb_8b1c_93bf1031e270row0_col1,#T_1d81dd4a_8ebd_11eb_8b1c_93bf1031e270row0_col2,#T_1d81dd4a_8ebd_11eb_8b1c_93bf1031e270row0_col3,#T_1d81dd4a_8ebd_11eb_8b1c_93bf1031e270row1_col0,#T_1d81dd4a_8ebd_11eb_8b1c_93bf1031e270row1_col1,#T_1d81dd4a_8ebd_11eb_8b1c_93bf1031e270row1_col2,#T_1d81dd4a_8ebd_11eb_8b1c_93bf1031e270row1_col3,#T_1d81dd4a_8ebd_11eb_8b1c_93bf1031e270row2_col0,#T_1d81dd4a_8ebd_11eb_8b1c_93bf1031e270row2_col1,#T_1d81dd4a_8ebd_11eb_8b1c_93bf1031e270row2_col2,#T_1d81dd4a_8ebd_11eb_8b1c_93bf1031e270row2_col3,#T_1d81dd4a_8ebd_11eb_8b1c_93bf1031e270row3_col0,#T_1d81dd4a_8ebd_11eb_8b1c_93bf1031e270row3_col1,#T_1d81dd4a_8ebd_11eb_8b1c_93bf1031e270row3_col2,#T_1d81dd4a_8ebd_11eb_8b1c_93bf1031e270row3_col3,#T_1d81dd4a_8ebd_11eb_8b1c_93bf1031e270row4_col4,#T_1d81dd4a_8ebd_11eb_8b1c_93bf1031e270row5_col5{\n            background-color:  #b40426;\n            color:  #f1f1f1;\n        }#T_1d81dd4a_8ebd_11eb_8b1c_93bf1031e270row0_col4,#T_1d81dd4a_8ebd_11eb_8b1c_93bf1031e270row0_col5,#T_1d81dd4a_8ebd_11eb_8b1c_93bf1031e270row1_col4,#T_1d81dd4a_8ebd_11eb_8b1c_93bf1031e270row1_col5,#T_1d81dd4a_8ebd_11eb_8b1c_93bf1031e270row2_col4,#T_1d81dd4a_8ebd_11eb_8b1c_93bf1031e270row2_col5,#T_1d81dd4a_8ebd_11eb_8b1c_93bf1031e270row3_col4,#T_1d81dd4a_8ebd_11eb_8b1c_93bf1031e270row3_col5,#T_1d81dd4a_8ebd_11eb_8b1c_93bf1031e270row4_col0,#T_1d81dd4a_8ebd_11eb_8b1c_93bf1031e270row4_col1,#T_1d81dd4a_8ebd_11eb_8b1c_93bf1031e270row4_col2,#T_1d81dd4a_8ebd_11eb_8b1c_93bf1031e270row4_col3,#T_1d81dd4a_8ebd_11eb_8b1c_93bf1031e270row5_col0,#T_1d81dd4a_8ebd_11eb_8b1c_93bf1031e270row5_col1,#T_1d81dd4a_8ebd_11eb_8b1c_93bf1031e270row5_col2,#T_1d81dd4a_8ebd_11eb_8b1c_93bf1031e270row5_col3{\n            background-color:  #3b4cc0;\n            color:  #f1f1f1;\n        }#T_1d81dd4a_8ebd_11eb_8b1c_93bf1031e270row4_col5,#T_1d81dd4a_8ebd_11eb_8b1c_93bf1031e270row5_col4{\n            background-color:  #d65244;\n            color:  #000000;\n        }</style><table id=\"T_1d81dd4a_8ebd_11eb_8b1c_93bf1031e270\" ><thead>    <tr>        <th class=\"blank level0\" ></th>        <th class=\"col_heading level0 col0\" >mean</th>        <th class=\"col_heading level0 col1\" >std</th>        <th class=\"col_heading level0 col2\" >max</th>        <th class=\"col_heading level0 col3\" >median</th>        <th class=\"col_heading level0 col4\" >freq</th>        <th class=\"col_heading level0 col5\" >y</th>    </tr></thead><tbody>\n                <tr>\n                        <th id=\"T_1d81dd4a_8ebd_11eb_8b1c_93bf1031e270level0_row0\" class=\"row_heading level0 row0\" >mean</th>\n                        <td id=\"T_1d81dd4a_8ebd_11eb_8b1c_93bf1031e270row0_col0\" class=\"data row0 col0\" >1.000000</td>\n                        <td id=\"T_1d81dd4a_8ebd_11eb_8b1c_93bf1031e270row0_col1\" class=\"data row0 col1\" >1.000000</td>\n                        <td id=\"T_1d81dd4a_8ebd_11eb_8b1c_93bf1031e270row0_col2\" class=\"data row0 col2\" >1.000000</td>\n                        <td id=\"T_1d81dd4a_8ebd_11eb_8b1c_93bf1031e270row0_col3\" class=\"data row0 col3\" >1.000000</td>\n                        <td id=\"T_1d81dd4a_8ebd_11eb_8b1c_93bf1031e270row0_col4\" class=\"data row0 col4\" >-0.041345</td>\n                        <td id=\"T_1d81dd4a_8ebd_11eb_8b1c_93bf1031e270row0_col5\" class=\"data row0 col5\" >-0.039051</td>\n            </tr>\n            <tr>\n                        <th id=\"T_1d81dd4a_8ebd_11eb_8b1c_93bf1031e270level0_row1\" class=\"row_heading level0 row1\" >std</th>\n                        <td id=\"T_1d81dd4a_8ebd_11eb_8b1c_93bf1031e270row1_col0\" class=\"data row1 col0\" >1.000000</td>\n                        <td id=\"T_1d81dd4a_8ebd_11eb_8b1c_93bf1031e270row1_col1\" class=\"data row1 col1\" >1.000000</td>\n                        <td id=\"T_1d81dd4a_8ebd_11eb_8b1c_93bf1031e270row1_col2\" class=\"data row1 col2\" >1.000000</td>\n                        <td id=\"T_1d81dd4a_8ebd_11eb_8b1c_93bf1031e270row1_col3\" class=\"data row1 col3\" >1.000000</td>\n                        <td id=\"T_1d81dd4a_8ebd_11eb_8b1c_93bf1031e270row1_col4\" class=\"data row1 col4\" >-0.041345</td>\n                        <td id=\"T_1d81dd4a_8ebd_11eb_8b1c_93bf1031e270row1_col5\" class=\"data row1 col5\" >-0.039051</td>\n            </tr>\n            <tr>\n                        <th id=\"T_1d81dd4a_8ebd_11eb_8b1c_93bf1031e270level0_row2\" class=\"row_heading level0 row2\" >max</th>\n                        <td id=\"T_1d81dd4a_8ebd_11eb_8b1c_93bf1031e270row2_col0\" class=\"data row2 col0\" >1.000000</td>\n                        <td id=\"T_1d81dd4a_8ebd_11eb_8b1c_93bf1031e270row2_col1\" class=\"data row2 col1\" >1.000000</td>\n                        <td id=\"T_1d81dd4a_8ebd_11eb_8b1c_93bf1031e270row2_col2\" class=\"data row2 col2\" >1.000000</td>\n                        <td id=\"T_1d81dd4a_8ebd_11eb_8b1c_93bf1031e270row2_col3\" class=\"data row2 col3\" >1.000000</td>\n                        <td id=\"T_1d81dd4a_8ebd_11eb_8b1c_93bf1031e270row2_col4\" class=\"data row2 col4\" >-0.041345</td>\n                        <td id=\"T_1d81dd4a_8ebd_11eb_8b1c_93bf1031e270row2_col5\" class=\"data row2 col5\" >-0.039051</td>\n            </tr>\n            <tr>\n                        <th id=\"T_1d81dd4a_8ebd_11eb_8b1c_93bf1031e270level0_row3\" class=\"row_heading level0 row3\" >median</th>\n                        <td id=\"T_1d81dd4a_8ebd_11eb_8b1c_93bf1031e270row3_col0\" class=\"data row3 col0\" >1.000000</td>\n                        <td id=\"T_1d81dd4a_8ebd_11eb_8b1c_93bf1031e270row3_col1\" class=\"data row3 col1\" >1.000000</td>\n                        <td id=\"T_1d81dd4a_8ebd_11eb_8b1c_93bf1031e270row3_col2\" class=\"data row3 col2\" >1.000000</td>\n                        <td id=\"T_1d81dd4a_8ebd_11eb_8b1c_93bf1031e270row3_col3\" class=\"data row3 col3\" >1.000000</td>\n                        <td id=\"T_1d81dd4a_8ebd_11eb_8b1c_93bf1031e270row3_col4\" class=\"data row3 col4\" >-0.041345</td>\n                        <td id=\"T_1d81dd4a_8ebd_11eb_8b1c_93bf1031e270row3_col5\" class=\"data row3 col5\" >-0.039051</td>\n            </tr>\n            <tr>\n                        <th id=\"T_1d81dd4a_8ebd_11eb_8b1c_93bf1031e270level0_row4\" class=\"row_heading level0 row4\" >freq</th>\n                        <td id=\"T_1d81dd4a_8ebd_11eb_8b1c_93bf1031e270row4_col0\" class=\"data row4 col0\" >-0.041345</td>\n                        <td id=\"T_1d81dd4a_8ebd_11eb_8b1c_93bf1031e270row4_col1\" class=\"data row4 col1\" >-0.041345</td>\n                        <td id=\"T_1d81dd4a_8ebd_11eb_8b1c_93bf1031e270row4_col2\" class=\"data row4 col2\" >-0.041345</td>\n                        <td id=\"T_1d81dd4a_8ebd_11eb_8b1c_93bf1031e270row4_col3\" class=\"data row4 col3\" >-0.041345</td>\n                        <td id=\"T_1d81dd4a_8ebd_11eb_8b1c_93bf1031e270row4_col4\" class=\"data row4 col4\" >1.000000</td>\n                        <td id=\"T_1d81dd4a_8ebd_11eb_8b1c_93bf1031e270row4_col5\" class=\"data row4 col5\" >0.897900</td>\n            </tr>\n            <tr>\n                        <th id=\"T_1d81dd4a_8ebd_11eb_8b1c_93bf1031e270level0_row5\" class=\"row_heading level0 row5\" >y</th>\n                        <td id=\"T_1d81dd4a_8ebd_11eb_8b1c_93bf1031e270row5_col0\" class=\"data row5 col0\" >-0.039051</td>\n                        <td id=\"T_1d81dd4a_8ebd_11eb_8b1c_93bf1031e270row5_col1\" class=\"data row5 col1\" >-0.039051</td>\n                        <td id=\"T_1d81dd4a_8ebd_11eb_8b1c_93bf1031e270row5_col2\" class=\"data row5 col2\" >-0.039051</td>\n                        <td id=\"T_1d81dd4a_8ebd_11eb_8b1c_93bf1031e270row5_col3\" class=\"data row5 col3\" >-0.039051</td>\n                        <td id=\"T_1d81dd4a_8ebd_11eb_8b1c_93bf1031e270row5_col4\" class=\"data row5 col4\" >0.897900</td>\n                        <td id=\"T_1d81dd4a_8ebd_11eb_8b1c_93bf1031e270row5_col5\" class=\"data row5 col5\" >1.000000</td>\n            </tr>\n    </tbody></table>"
     },
     "metadata": {},
     "execution_count": 51
    }
   ],
   "source": [
    "corr = data.corr()\n",
    "corr.style.background_gradient(cmap='coolwarm')"
   ]
  },
  {
   "cell_type": "code",
   "execution_count": 52,
   "metadata": {},
   "outputs": [],
   "source": [
    "xgb.save_model('xgb_model.json')"
   ]
  },
  {
   "cell_type": "raw",
   "metadata": {},
   "source": []
  }
 ],
 "metadata": {
  "kernelspec": {
   "display_name": "Python 3",
   "language": "python",
   "name": "python3"
  },
  "language_info": {
   "codemirror_mode": {
    "name": "ipython",
    "version": 3
   },
   "file_extension": ".py",
   "mimetype": "text/x-python",
   "name": "python",
   "nbconvert_exporter": "python",
   "pygments_lexer": "ipython3",
   "version": "3.8.5-final"
  }
 },
 "nbformat": 4,
 "nbformat_minor": 4
}